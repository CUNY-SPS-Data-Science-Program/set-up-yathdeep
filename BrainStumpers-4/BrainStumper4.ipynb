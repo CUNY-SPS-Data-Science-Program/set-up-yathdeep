{
 "cells": [
  {
   "cell_type": "markdown",
   "metadata": {
    "id": "YQYbDWMgBBl_"
   },
   "source": [
    "# CUNY MSDS DATA618 - Quantative Finance\n",
    "\n",
    "## Week 4 : Brain Stumper \n",
    "\n",
    "### Deepak Sharma\n",
    "---------------------\n",
    "The following Investopedia post (https://www.investopedia.com/ask/answers/06/oilpricesinflation.asp) posits a reduced influence of oil prices on inflation today compared to the past \n",
    "\n",
    "You should be able to demonstrate (or refute) this assertion by measuring the degree of correlation of inflation measures (CPI and/or PPI) and the price of oil and/or motor fuel costs over time.\n",
    "\n",
    "__Challenge:__\n",
    "\n",
    "1. Source monthly oil and motor fuel price data for a significant period (~ 30 years or longer) from a reputable source (E.g.: US Energy Information Administration - https://www.eia.gov/)\n",
    "2. Source inflation rate (CPI and PPI) data from an authoritative source (E.g.: US Bureau of Labor Statistics - https://www.bls.gov/)\n",
    "3. Determine and plot the correlation between energy costs and inflation and demonstrate its change over the period studied.\n",
    "4. Provide an assessment of the causes for the changes.\n",
    "5. Commit your analyses, code used, results and summary presentation in your personal repo and send me links to your work in response to this email."
   ]
  },
  {
   "cell_type": "markdown",
   "metadata": {},
   "source": [
    "### Solution\n",
    "\n",
    "__1.__\n",
    "\n",
    "Monthly motor fuel price data is sourced from https://www.eia.gov/dnav/pet/hist/LeafHandler.ashx?n=pet&s=emm_epm0_pte_nus_dpg&f=m\n",
    "\n",
    "A copy of the datafile is retained at github - https://raw.githubusercontent.com/CUNY-SPS-Data-Science-Program/set-up-rnivas2028/BrainStumpers/U.S._All_Grades_All_Formulations_Retail_Gasoline_Prices.csv"
   ]
  },
  {
   "cell_type": "code",
   "execution_count": 415,
   "metadata": {},
   "outputs": [
    {
     "data": {
      "text/html": [
       "<div>\n",
       "<style scoped>\n",
       "    .dataframe tbody tr th:only-of-type {\n",
       "        vertical-align: middle;\n",
       "    }\n",
       "\n",
       "    .dataframe tbody tr th {\n",
       "        vertical-align: top;\n",
       "    }\n",
       "\n",
       "    .dataframe thead th {\n",
       "        text-align: right;\n",
       "    }\n",
       "</style>\n",
       "<table border=\"1\" class=\"dataframe\">\n",
       "  <thead>\n",
       "    <tr style=\"text-align: right;\">\n",
       "      <th></th>\n",
       "      <th>Month</th>\n",
       "      <th>U.S. All Grades All Formulations Retail Gasoline Prices Dollars per Gallon</th>\n",
       "    </tr>\n",
       "  </thead>\n",
       "  <tbody>\n",
       "    <tr>\n",
       "      <th>0</th>\n",
       "      <td>2022-09-01</td>\n",
       "      <td>3.817</td>\n",
       "    </tr>\n",
       "    <tr>\n",
       "      <th>1</th>\n",
       "      <td>2022-08-01</td>\n",
       "      <td>4.087</td>\n",
       "    </tr>\n",
       "    <tr>\n",
       "      <th>2</th>\n",
       "      <td>2022-07-01</td>\n",
       "      <td>4.668</td>\n",
       "    </tr>\n",
       "    <tr>\n",
       "      <th>3</th>\n",
       "      <td>2022-06-01</td>\n",
       "      <td>5.032</td>\n",
       "    </tr>\n",
       "    <tr>\n",
       "      <th>4</th>\n",
       "      <td>2022-05-01</td>\n",
       "      <td>4.545</td>\n",
       "    </tr>\n",
       "  </tbody>\n",
       "</table>\n",
       "</div>"
      ],
      "text/plain": [
       "       Month  \\\n",
       "0 2022-09-01   \n",
       "1 2022-08-01   \n",
       "2 2022-07-01   \n",
       "3 2022-06-01   \n",
       "4 2022-05-01   \n",
       "\n",
       "   U.S. All Grades All Formulations Retail Gasoline Prices Dollars per Gallon  \n",
       "0                                              3.817                           \n",
       "1                                              4.087                           \n",
       "2                                              4.668                           \n",
       "3                                              5.032                           \n",
       "4                                              4.545                           "
      ]
     },
     "execution_count": 415,
     "metadata": {},
     "output_type": "execute_result"
    }
   ],
   "source": [
    "import pandas as pd\n",
    "import matplotlib.pyplot as plt\n",
    "from matplotlib import pyplot\n",
    "gasoline_prices = pd.read_csv(\"https://raw.githubusercontent.com/CUNY-SPS-Data-Science-Program/set-up-rnivas2028/BrainStumpers/U.S._All_Grades_All_Formulations_Retail_Gasoline_Prices.csv\",\n",
    "                     skiprows = 4,parse_dates = ['Month'])\n",
    "gasoline_prices.head()"
   ]
  },
  {
   "cell_type": "code",
   "execution_count": 416,
   "metadata": {},
   "outputs": [
    {
     "data": {
      "text/html": [
       "<div>\n",
       "<style scoped>\n",
       "    .dataframe tbody tr th:only-of-type {\n",
       "        vertical-align: middle;\n",
       "    }\n",
       "\n",
       "    .dataframe tbody tr th {\n",
       "        vertical-align: top;\n",
       "    }\n",
       "\n",
       "    .dataframe thead th {\n",
       "        text-align: right;\n",
       "    }\n",
       "</style>\n",
       "<table border=\"1\" class=\"dataframe\">\n",
       "  <thead>\n",
       "    <tr style=\"text-align: right;\">\n",
       "      <th></th>\n",
       "      <th>Oil</th>\n",
       "    </tr>\n",
       "    <tr>\n",
       "      <th>Date</th>\n",
       "      <th></th>\n",
       "    </tr>\n",
       "  </thead>\n",
       "  <tbody>\n",
       "    <tr>\n",
       "      <th>1993-05-01</th>\n",
       "      <td>1.100</td>\n",
       "    </tr>\n",
       "    <tr>\n",
       "      <th>1993-06-01</th>\n",
       "      <td>1.097</td>\n",
       "    </tr>\n",
       "    <tr>\n",
       "      <th>1993-07-01</th>\n",
       "      <td>1.078</td>\n",
       "    </tr>\n",
       "    <tr>\n",
       "      <th>1993-08-01</th>\n",
       "      <td>1.062</td>\n",
       "    </tr>\n",
       "    <tr>\n",
       "      <th>1993-09-01</th>\n",
       "      <td>1.050</td>\n",
       "    </tr>\n",
       "  </tbody>\n",
       "</table>\n",
       "</div>"
      ],
      "text/plain": [
       "              Oil\n",
       "Date             \n",
       "1993-05-01  1.100\n",
       "1993-06-01  1.097\n",
       "1993-07-01  1.078\n",
       "1993-08-01  1.062\n",
       "1993-09-01  1.050"
      ]
     },
     "execution_count": 416,
     "metadata": {},
     "output_type": "execute_result"
    }
   ],
   "source": [
    "# Rename the columns and create index \n",
    "gasoline_prices = gasoline_prices.rename(columns={'Month': 'Date', 'U.S. All Grades All Formulations Retail Gasoline Prices Dollars per Gallon': 'Oil'})\n",
    "gasoline_prices=gasoline_prices.set_index('Date', inplace = False)\n",
    "gasoline_prices.sort_values(by='Date',ascending = True, inplace=True)\n",
    "gasoline_prices=gasoline_prices.iloc[1:] # removed extra row, we just need 30 years of data to join with CPI later\n",
    "gasoline_prices.head()"
   ]
  },
  {
   "cell_type": "code",
   "execution_count": 417,
   "metadata": {},
   "outputs": [
    {
     "data": {
      "text/plain": [
       "<AxesSubplot:xlabel='Date'>"
      ]
     },
     "execution_count": 417,
     "metadata": {},
     "output_type": "execute_result"
    },
    {
     "data": {
      "image/png": "[encoded data removed]",
      "text/plain": [
       "<Figure size 432x288 with 1 Axes>"
      ]
     },
     "metadata": {
      "needs_background": "light"
     },
     "output_type": "display_data"
    }
   ],
   "source": [
    "# Plot Oil prices $ per gallon in last 30 years\n",
    "gasoline_prices.plot()"
   ]
  },
  {
   "cell_type": "markdown",
   "metadata": {},
   "source": [
    "__2.__\n",
    "\n",
    "Lets download the Bureau of Labor Statistics Consumer Price Index Dataset from the site\n",
    "https://www.usinflationcalculator.com/inflation/consumer-price-index-and-annual-percent-changes-from-1913-to-2008/\n",
    "\n",
    "Lets load the dataset. This dataset is a time series data."
   ]
  },
  {
   "cell_type": "code",
   "execution_count": 418,
   "metadata": {
    "scrolled": true
   },
   "outputs": [
    {
     "data": {
      "text/html": [
       "<div>\n",
       "<style scoped>\n",
       "    .dataframe tbody tr th:only-of-type {\n",
       "        vertical-align: middle;\n",
       "    }\n",
       "\n",
       "    .dataframe tbody tr th {\n",
       "        vertical-align: top;\n",
       "    }\n",
       "\n",
       "    .dataframe thead th {\n",
       "        text-align: right;\n",
       "    }\n",
       "</style>\n",
       "<table border=\"1\" class=\"dataframe\">\n",
       "  <thead>\n",
       "    <tr style=\"text-align: right;\">\n",
       "      <th></th>\n",
       "      <th>Year</th>\n",
       "      <th>Jan</th>\n",
       "      <th>Feb</th>\n",
       "      <th>Mar</th>\n",
       "      <th>Apr</th>\n",
       "      <th>May</th>\n",
       "      <th>Jun</th>\n",
       "      <th>Jul</th>\n",
       "      <th>Aug</th>\n",
       "      <th>Sep</th>\n",
       "      <th>Oct</th>\n",
       "      <th>Nov</th>\n",
       "      <th>Dec</th>\n",
       "    </tr>\n",
       "  </thead>\n",
       "  <tbody>\n",
       "    <tr>\n",
       "      <th>0</th>\n",
       "      <td>1993</td>\n",
       "      <td>0.4</td>\n",
       "      <td>0.2</td>\n",
       "      <td>0.1</td>\n",
       "      <td>0.3</td>\n",
       "      <td>0.3</td>\n",
       "      <td>0.1</td>\n",
       "      <td>0.1</td>\n",
       "      <td>0.2</td>\n",
       "      <td>0.1</td>\n",
       "      <td>0.4</td>\n",
       "      <td>0.3</td>\n",
       "      <td>0.2</td>\n",
       "    </tr>\n",
       "    <tr>\n",
       "      <th>1</th>\n",
       "      <td>1994</td>\n",
       "      <td>0.0</td>\n",
       "      <td>0.3</td>\n",
       "      <td>0.3</td>\n",
       "      <td>0.1</td>\n",
       "      <td>0.2</td>\n",
       "      <td>0.3</td>\n",
       "      <td>0.3</td>\n",
       "      <td>0.4</td>\n",
       "      <td>0.2</td>\n",
       "      <td>0.1</td>\n",
       "      <td>0.3</td>\n",
       "      <td>0.2</td>\n",
       "    </tr>\n",
       "    <tr>\n",
       "      <th>2</th>\n",
       "      <td>1995</td>\n",
       "      <td>0.3</td>\n",
       "      <td>0.3</td>\n",
       "      <td>0.2</td>\n",
       "      <td>0.4</td>\n",
       "      <td>0.2</td>\n",
       "      <td>0.2</td>\n",
       "      <td>0.1</td>\n",
       "      <td>0.2</td>\n",
       "      <td>0.1</td>\n",
       "      <td>0.3</td>\n",
       "      <td>0.1</td>\n",
       "      <td>0.1</td>\n",
       "    </tr>\n",
       "    <tr>\n",
       "      <th>3</th>\n",
       "      <td>1996</td>\n",
       "      <td>0.5</td>\n",
       "      <td>0.2</td>\n",
       "      <td>0.3</td>\n",
       "      <td>0.4</td>\n",
       "      <td>0.2</td>\n",
       "      <td>0.2</td>\n",
       "      <td>0.2</td>\n",
       "      <td>0.1</td>\n",
       "      <td>0.3</td>\n",
       "      <td>0.3</td>\n",
       "      <td>0.3</td>\n",
       "      <td>0.3</td>\n",
       "    </tr>\n",
       "    <tr>\n",
       "      <th>4</th>\n",
       "      <td>1997</td>\n",
       "      <td>0.2</td>\n",
       "      <td>0.2</td>\n",
       "      <td>0.1</td>\n",
       "      <td>0.1</td>\n",
       "      <td>0.0</td>\n",
       "      <td>0.2</td>\n",
       "      <td>0.1</td>\n",
       "      <td>0.2</td>\n",
       "      <td>0.2</td>\n",
       "      <td>0.2</td>\n",
       "      <td>0.1</td>\n",
       "      <td>0.1</td>\n",
       "    </tr>\n",
       "  </tbody>\n",
       "</table>\n",
       "</div>"
      ],
      "text/plain": [
       "   Year  Jan  Feb  Mar  Apr  May  Jun  Jul  Aug  Sep  Oct  Nov  Dec\n",
       "0  1993  0.4  0.2  0.1  0.3  0.3  0.1  0.1  0.2  0.1  0.4  0.3  0.2\n",
       "1  1994  0.0  0.3  0.3  0.1  0.2  0.3  0.3  0.4  0.2  0.1  0.3  0.2\n",
       "2  1995  0.3  0.3  0.2  0.4  0.2  0.2  0.1  0.2  0.1  0.3  0.1  0.1\n",
       "3  1996  0.5  0.2  0.3  0.4  0.2  0.2  0.2  0.1  0.3  0.3  0.3  0.3\n",
       "4  1997  0.2  0.2  0.1  0.1  0.0  0.2  0.1  0.2  0.2  0.2  0.1  0.1"
      ]
     },
     "execution_count": 418,
     "metadata": {},
     "output_type": "execute_result"
    }
   ],
   "source": [
    "cpi = pd.read_csv(\"https://raw.githubusercontent.com/CUNY-SPS-Data-Science-Program/set-up-rnivas2028/BrainStumpers/SeriesReport-20221003223734_12c428.csv\",\n",
    "                     skiprows = 1, on_bad_lines='skip')\n",
    "cpi.head()"
   ]
  },
  {
   "cell_type": "code",
   "execution_count": 419,
   "metadata": {},
   "outputs": [],
   "source": [
    "# Reshape (melt) the data to a time series format for last 30 years\n",
    "cpi=cpi.melt(id_vars= ['Year'], var_name ='Month')\n",
    "cpi['Date']=pd.to_datetime(cpi.Year.astype(str) + '/' + cpi.Month.astype(str) + '/01')\n",
    "del cpi['Year'] # these columns are not needed anymore\n",
    "del cpi['Month']\n",
    "cpi = cpi.rename(columns={'value': 'CPI'})"
   ]
  },
  {
   "cell_type": "code",
   "execution_count": 420,
   "metadata": {},
   "outputs": [
    {
     "data": {
      "text/html": [
       "<div>\n",
       "<style scoped>\n",
       "    .dataframe tbody tr th:only-of-type {\n",
       "        vertical-align: middle;\n",
       "    }\n",
       "\n",
       "    .dataframe tbody tr th {\n",
       "        vertical-align: top;\n",
       "    }\n",
       "\n",
       "    .dataframe thead th {\n",
       "        text-align: right;\n",
       "    }\n",
       "</style>\n",
       "<table border=\"1\" class=\"dataframe\">\n",
       "  <thead>\n",
       "    <tr style=\"text-align: right;\">\n",
       "      <th></th>\n",
       "      <th>CPI</th>\n",
       "    </tr>\n",
       "    <tr>\n",
       "      <th>Date</th>\n",
       "      <th></th>\n",
       "    </tr>\n",
       "  </thead>\n",
       "  <tbody>\n",
       "    <tr>\n",
       "      <th>1993-04-01</th>\n",
       "      <td>0.3</td>\n",
       "    </tr>\n",
       "    <tr>\n",
       "      <th>1993-05-01</th>\n",
       "      <td>0.3</td>\n",
       "    </tr>\n",
       "    <tr>\n",
       "      <th>1993-06-01</th>\n",
       "      <td>0.1</td>\n",
       "    </tr>\n",
       "    <tr>\n",
       "      <th>1993-07-01</th>\n",
       "      <td>0.1</td>\n",
       "    </tr>\n",
       "    <tr>\n",
       "      <th>1993-08-01</th>\n",
       "      <td>0.2</td>\n",
       "    </tr>\n",
       "  </tbody>\n",
       "</table>\n",
       "</div>"
      ],
      "text/plain": [
       "            CPI\n",
       "Date           \n",
       "1993-04-01  0.3\n",
       "1993-05-01  0.3\n",
       "1993-06-01  0.1\n",
       "1993-07-01  0.1\n",
       "1993-08-01  0.2"
      ]
     },
     "execution_count": 420,
     "metadata": {},
     "output_type": "execute_result"
    }
   ],
   "source": [
    "# create an index to plot CPI data as a time series dataset\n",
    "cpi.sort_values(by=['Date'], inplace=True, ascending=False)\n",
    "cpi=cpi.iloc[4:len(cpi)-3]\n",
    "cpi=cpi.set_index('Date', inplace = False).sort_values(by='Date')\n",
    "cpi.head()"
   ]
  },
  {
   "cell_type": "code",
   "execution_count": 421,
   "metadata": {},
   "outputs": [
    {
     "data": {
      "text/plain": [
       "<AxesSubplot:xlabel='Date'>"
      ]
     },
     "execution_count": 421,
     "metadata": {},
     "output_type": "execute_result"
    },
    {
     "data": {
      "image/png": "[encoded data removed]",
      "text/plain": [
       "<Figure size 432x288 with 1 Axes>"
      ]
     },
     "metadata": {
      "needs_background": "light"
     },
     "output_type": "display_data"
    }
   ],
   "source": [
    "cpi.plot()"
   ]
  },
  {
   "cell_type": "code",
   "execution_count": 422,
   "metadata": {},
   "outputs": [
    {
     "data": {
      "text/html": [
       "<div>\n",
       "<style scoped>\n",
       "    .dataframe tbody tr th:only-of-type {\n",
       "        vertical-align: middle;\n",
       "    }\n",
       "\n",
       "    .dataframe tbody tr th {\n",
       "        vertical-align: top;\n",
       "    }\n",
       "\n",
       "    .dataframe thead th {\n",
       "        text-align: right;\n",
       "    }\n",
       "</style>\n",
       "<table border=\"1\" class=\"dataframe\">\n",
       "  <thead>\n",
       "    <tr style=\"text-align: right;\">\n",
       "      <th></th>\n",
       "      <th>Oil</th>\n",
       "      <th>CPI</th>\n",
       "    </tr>\n",
       "    <tr>\n",
       "      <th>Date</th>\n",
       "      <th></th>\n",
       "      <th></th>\n",
       "    </tr>\n",
       "  </thead>\n",
       "  <tbody>\n",
       "    <tr>\n",
       "      <th>1993-05-01</th>\n",
       "      <td>1.100</td>\n",
       "      <td>0.3</td>\n",
       "    </tr>\n",
       "    <tr>\n",
       "      <th>1993-06-01</th>\n",
       "      <td>1.097</td>\n",
       "      <td>0.1</td>\n",
       "    </tr>\n",
       "    <tr>\n",
       "      <th>1993-07-01</th>\n",
       "      <td>1.078</td>\n",
       "      <td>0.1</td>\n",
       "    </tr>\n",
       "    <tr>\n",
       "      <th>1993-08-01</th>\n",
       "      <td>1.062</td>\n",
       "      <td>0.2</td>\n",
       "    </tr>\n",
       "    <tr>\n",
       "      <th>1993-09-01</th>\n",
       "      <td>1.050</td>\n",
       "      <td>0.1</td>\n",
       "    </tr>\n",
       "  </tbody>\n",
       "</table>\n",
       "</div>"
      ],
      "text/plain": [
       "              Oil  CPI\n",
       "Date                  \n",
       "1993-05-01  1.100  0.3\n",
       "1993-06-01  1.097  0.1\n",
       "1993-07-01  1.078  0.1\n",
       "1993-08-01  1.062  0.2\n",
       "1993-09-01  1.050  0.1"
      ]
     },
     "execution_count": 422,
     "metadata": {},
     "output_type": "execute_result"
    }
   ],
   "source": [
    "gasoline_prices_cpi=pd.merge(gasoline_prices,cpi,on='Date')\n",
    "gasoline_prices_cpi.head()"
   ]
  },
  {
   "cell_type": "markdown",
   "metadata": {},
   "source": [
    "__3.a CPI vs Oil Prices__\n",
    "\n",
    "Let try finding a orrelation between energy costs and inflation in last 30 years "
   ]
  },
  {
   "cell_type": "code",
   "execution_count": 423,
   "metadata": {},
   "outputs": [
    {
     "data": {
      "text/plain": [
       "Text(0, 0.5, 'Consumer Price Index(CPI)')"
      ]
     },
     "execution_count": 423,
     "metadata": {},
     "output_type": "execute_result"
    },
    {
     "data": {
      "image/png": "[encoded data removed]",
      "text/plain": [
       "<Figure size 432x288 with 2 Axes>"
      ]
     },
     "metadata": {
      "needs_background": "light"
     },
     "output_type": "display_data"
    }
   ],
   "source": [
    "fig,ax = plt.subplots()\n",
    "ax.plot(gasoline_prices_cpi.index,gasoline_prices_cpi.Oil, color='steelblue')\n",
    "ax.set_xlabel('Year', fontsize=14)\n",
    "ax.set_ylabel('Oil', color='steelblue', fontsize=14)\n",
    "\n",
    "ax2 = ax.twinx()\n",
    "\n",
    "ax2.plot(gasoline_prices_cpi.index,gasoline_prices_cpi.CPI, color='red')\n",
    "ax2.set_ylabel('Consumer Price Index(CPI)', color='red', fontsize=14)"
   ]
  },
  {
   "cell_type": "code",
   "execution_count": 424,
   "metadata": {},
   "outputs": [],
   "source": [
    "hist(gasoline_prices_cpi.CPI,bin=100)"
   ]
  },
  {
   "cell_type": "markdown",
   "metadata": {},
   "source": [
    "__3.b PPI vs Oil Prices__\n",
    "\n",
    "Let try finding a orrelation between energy costs and PPI in last 30 years "
   ]
  },
  {
   "cell_type": "code",
   "execution_count": 425,
   "metadata": {},
   "outputs": [
    {
     "data": {
      "text/html": [
       "<div>\n",
       "<style scoped>\n",
       "    .dataframe tbody tr th:only-of-type {\n",
       "        vertical-align: middle;\n",
       "    }\n",
       "\n",
       "    .dataframe tbody tr th {\n",
       "        vertical-align: top;\n",
       "    }\n",
       "\n",
       "    .dataframe thead th {\n",
       "        text-align: right;\n",
       "    }\n",
       "</style>\n",
       "<table border=\"1\" class=\"dataframe\">\n",
       "  <thead>\n",
       "    <tr style=\"text-align: right;\">\n",
       "      <th></th>\n",
       "      <th>PPI</th>\n",
       "    </tr>\n",
       "    <tr>\n",
       "      <th>Date</th>\n",
       "      <th></th>\n",
       "    </tr>\n",
       "  </thead>\n",
       "  <tbody>\n",
       "    <tr>\n",
       "      <th>1993-04-01</th>\n",
       "      <td>119.3</td>\n",
       "    </tr>\n",
       "    <tr>\n",
       "      <th>1993-05-01</th>\n",
       "      <td>119.7</td>\n",
       "    </tr>\n",
       "    <tr>\n",
       "      <th>1993-06-01</th>\n",
       "      <td>119.5</td>\n",
       "    </tr>\n",
       "    <tr>\n",
       "      <th>1993-07-01</th>\n",
       "      <td>119.2</td>\n",
       "    </tr>\n",
       "    <tr>\n",
       "      <th>1993-08-01</th>\n",
       "      <td>118.7</td>\n",
       "    </tr>\n",
       "  </tbody>\n",
       "</table>\n",
       "</div>"
      ],
      "text/plain": [
       "              PPI\n",
       "Date             \n",
       "1993-04-01  119.3\n",
       "1993-05-01  119.7\n",
       "1993-06-01  119.5\n",
       "1993-07-01  119.2\n",
       "1993-08-01  118.7"
      ]
     },
     "execution_count": 425,
     "metadata": {},
     "output_type": "execute_result"
    }
   ],
   "source": [
    "# Access PPI data and create index \n",
    "ppi = pd.read_csv(\"https://raw.githubusercontent.com/CUNY-SPS-Data-Science-Program/set-up-rnivas2028/BrainStumpers/PPIACO.csv\",\n",
    "                     skiprows = 0,parse_dates = ['DATE'])\n",
    "ppi = ppi.rename(columns={'DATE': 'Date','PPIACO':'PPI' })\n",
    "ppi=ppi.set_index('Date', inplace = False)\n",
    "ppi=ppi.iloc[3:len(ppi)-1] # remove extra rows\n",
    "ppi.head()"
   ]
  },
  {
   "cell_type": "code",
   "execution_count": 426,
   "metadata": {},
   "outputs": [
    {
     "data": {
      "text/plain": [
       "<AxesSubplot:xlabel='Date'>"
      ]
     },
     "execution_count": 426,
     "metadata": {},
     "output_type": "execute_result"
    },
    {
     "data": {
      "image/png": "[encoded data removed]",
      "text/plain": [
       "<Figure size 432x288 with 1 Axes>"
      ]
     },
     "metadata": {
      "needs_background": "light"
     },
     "output_type": "display_data"
    }
   ],
   "source": [
    "ppi.plot()"
   ]
  },
  {
   "cell_type": "code",
   "execution_count": 427,
   "metadata": {},
   "outputs": [
    {
     "data": {
      "text/plain": [
       "Text(0, 0.5, 'Producer Price Indexes(PPI)')"
      ]
     },
     "execution_count": 427,
     "metadata": {},
     "output_type": "execute_result"
    },
    {
     "data": {
      "image/png": "[encoded data removed]",
      "text/plain": [
       "<Figure size 432x288 with 2 Axes>"
      ]
     },
     "metadata": {
      "needs_background": "light"
     },
     "output_type": "display_data"
    }
   ],
   "source": [
    "fig,ax = plt.subplots()\n",
    "ax.plot(gasoline_prices.index,gasoline_prices.Oil, color='steelblue')\n",
    "ax.set_xlabel('Year', fontsize=14)\n",
    "ax.set_ylabel('Oil', color='steelblue', fontsize=14)\n",
    "\n",
    "ax2 = ax.twinx()\n",
    "\n",
    "ax2.plot(ppi.index,ppi.PPI, color='green')\n",
    "ax2.set_ylabel('Producer Price Indexes(PPI)', color='green', fontsize=14)"
   ]
  },
  {
   "cell_type": "code",
   "execution_count": 428,
   "metadata": {},
   "outputs": [],
   "source": [
    "# Lets calculate corelation between Gasoline prices and CPI\n",
    "selected_cpi_oil = pd.DataFrame(zip(gasoline_prices_cpi['Oil'],\n",
    "                            gasoline_prices_cpi['CPI']),\n",
    "                        columns=['Oil','CPI'])"
   ]
  },
  {
   "cell_type": "code",
   "execution_count": 429,
   "metadata": {},
   "outputs": [
    {
     "data": {
      "text/html": [
       "<div>\n",
       "<style scoped>\n",
       "    .dataframe tbody tr th:only-of-type {\n",
       "        vertical-align: middle;\n",
       "    }\n",
       "\n",
       "    .dataframe tbody tr th {\n",
       "        vertical-align: top;\n",
       "    }\n",
       "\n",
       "    .dataframe thead th {\n",
       "        text-align: right;\n",
       "    }\n",
       "</style>\n",
       "<table border=\"1\" class=\"dataframe\">\n",
       "  <thead>\n",
       "    <tr style=\"text-align: right;\">\n",
       "      <th></th>\n",
       "      <th>Oil</th>\n",
       "      <th>CPI</th>\n",
       "    </tr>\n",
       "  </thead>\n",
       "  <tbody>\n",
       "    <tr>\n",
       "      <th>Oil</th>\n",
       "      <td>1.000000</td>\n",
       "      <td>0.156362</td>\n",
       "    </tr>\n",
       "    <tr>\n",
       "      <th>CPI</th>\n",
       "      <td>0.156362</td>\n",
       "      <td>1.000000</td>\n",
       "    </tr>\n",
       "  </tbody>\n",
       "</table>\n",
       "</div>"
      ],
      "text/plain": [
       "          Oil       CPI\n",
       "Oil  1.000000  0.156362\n",
       "CPI  0.156362  1.000000"
      ]
     },
     "execution_count": 429,
     "metadata": {},
     "output_type": "execute_result"
    }
   ],
   "source": [
    "selected_cpi_oil.corr()"
   ]
  },
  {
   "cell_type": "code",
   "execution_count": 430,
   "metadata": {},
   "outputs": [],
   "source": [
    "selected_ppi_oil = pd.DataFrame(zip(gasoline_prices_cpi['Oil'],\n",
    "                            ppi['PPI']),\n",
    "                        columns=['Oil','PPI'])"
   ]
  },
  {
   "cell_type": "code",
   "execution_count": 431,
   "metadata": {},
   "outputs": [
    {
     "data": {
      "text/html": [
       "<div>\n",
       "<style scoped>\n",
       "    .dataframe tbody tr th:only-of-type {\n",
       "        vertical-align: middle;\n",
       "    }\n",
       "\n",
       "    .dataframe tbody tr th {\n",
       "        vertical-align: top;\n",
       "    }\n",
       "\n",
       "    .dataframe thead th {\n",
       "        text-align: right;\n",
       "    }\n",
       "</style>\n",
       "<table border=\"1\" class=\"dataframe\">\n",
       "  <thead>\n",
       "    <tr style=\"text-align: right;\">\n",
       "      <th></th>\n",
       "      <th>Oil</th>\n",
       "      <th>PPI</th>\n",
       "    </tr>\n",
       "  </thead>\n",
       "  <tbody>\n",
       "    <tr>\n",
       "      <th>Oil</th>\n",
       "      <td>1.000000</td>\n",
       "      <td>0.913721</td>\n",
       "    </tr>\n",
       "    <tr>\n",
       "      <th>PPI</th>\n",
       "      <td>0.913721</td>\n",
       "      <td>1.000000</td>\n",
       "    </tr>\n",
       "  </tbody>\n",
       "</table>\n",
       "</div>"
      ],
      "text/plain": [
       "          Oil       PPI\n",
       "Oil  1.000000  0.913721\n",
       "PPI  0.913721  1.000000"
      ]
     },
     "execution_count": 431,
     "metadata": {},
     "output_type": "execute_result"
    }
   ],
   "source": [
    "# Lets calculate corelation between Gasoline prices and PPI\n",
    "selected_ppi_oil.corr()"
   ]
  },
  {
   "cell_type": "markdown",
   "metadata": {},
   "source": [
    "------------------------------------------------------\n",
    "__3. Assessment of the causes for the changes__\n",
    "\n",
    "__*Gasoline Prices vs CPI*__ \n",
    "- Positive factional value __(0.154722)__ shows a positive but marginal correlation. It’s no secret that fluctuations in oil prices can lead to dramatic swings in headline price inflation, as chart above shows.\n",
    "\n",
    "- In contrast, the graph shows a positive but much weaker relationship between oil prices and CPI inflation. The correlation is __0.154__, much lower than for producer prices. This weaker link between oil prices and consumer prices likely comes from the relatively higher weight of services in the U.S. consumption basket, which we expect to rely less on oil as a production input.\n",
    "\n",
    "- After all, not only does oil fuel the vast majority of transportation needs, it’s also a critical raw material used in consumer products far and wide, and much of the price swings in oil are passed on to consumers. With oil moving higher compared to year-ago prices, we should naturally expect a transitory boost to headline CPI as a result. \n",
    "\n",
    "CPI Categories by Weight as of August 2022\n",
    "\n",
    "Group |Weight\n",
    "-----|----- \n",
    "Housing\t| 32.2%\n",
    "Commodities\t| 21.2%\n",
    "Food | 13.5%\n",
    "Energy | 8.8%\n",
    "Education | 7.6%\n",
    "Health Care\t| 6.8%\n",
    "Transportation\t| 5.9%\n",
    "Other Expenses\t| 4.0%\n",
    "Total Expenses\t| 100%\n",
    "\n",
    "Since the CPI is most directly influenced by oil price changes through its energy component, one question that remains is whether or not other components in the CPI are influenced by low oil prices. Generally, energy prices are rather volatile, and so energy components are often excluded when predicting inflation because of that volatility.\n",
    "\n",
    "\n",
    "__*Gasoline Prices vs PPI*__ : \n",
    "- The graph shows a strong positive relationship between oil prices and PPI inflation. That is, higher oil prices are associated with higher producer prices and vice versa. \n",
    "- Specifically, the correlation between oil prices and the PPI is __0.91__. This strong link likely comes from the importance of oil as an input in the production of goods. In contrast, the graph shows a positive but much weaker relationship between oil prices and CPI inflation. The correlation is __0.15__, much lower than for producer prices. \n",
    "- This weaker link between oil prices and consumer prices likely comes from the relatively higher weight of services in the U.S. consumption basket, which you’d expect to rely less on oil as a production input.\n",
    "- The year-over-year percent change in the PPI for finished goods has been loosely related to international oil prices for the past 20 years. But when oil reached USD60 a barrel in 2007, the two price series began to move more in sync. \n",
    "- The year-over-year percent change in the PPI was lower in the most recent data release, but it is still too early to tell whether low oil prices are going to feed through to the PPI going forward."
   ]
  }
 ],
 "metadata": {
  "colab": {
   "collapsed_sections": [],
   "name": "portfolio_management_vol2.ipynb",
   "provenance": [],
   "toc_visible": true
  },
  "kernelspec": {
   "display_name": "Python 3",
   "language": "python",
   "name": "python3"
  },
  "language_info": {
   "codemirror_mode": {
    "name": "ipython",
    "version": 3
   },
   "file_extension": ".py",
   "mimetype": "text/x-python",
   "name": "python",
   "nbconvert_exporter": "python",
   "pygments_lexer": "ipython3",
   "version": "3.8.5"
  },
  "toc": {
   "base_numbering": 1,
   "nav_menu": {
    "height": "12px",
    "width": "160px"
   },
   "number_sections": true,
   "sideBar": true,
   "skip_h1_title": false,
   "title_cell": "Table of Contents",
   "title_sidebar": "Contents",
   "toc_cell": false,
   "toc_position": {},
   "toc_section_display": true,
   "toc_window_display": false
  }
 },
 "nbformat": 4,
 "nbformat_minor": 4
}
